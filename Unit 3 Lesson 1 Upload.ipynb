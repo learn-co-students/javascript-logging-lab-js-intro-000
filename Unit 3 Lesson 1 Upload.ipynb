{
 "cells": [
  {
   "cell_type": "code",
   "execution_count": 2,
   "metadata": {},
   "outputs": [],
   "source": [
    "import pandas as pd\n",
    "import numpy as np\n",
    "import matplotlib.pyplot as plt"
   ]
  },
  {
   "cell_type": "code",
   "execution_count": 3,
   "metadata": {
    "collapsed": true
   },
   "outputs": [],
   "source": [
    "brady = pd.DataFrame()\n",
    "brady['name'] = ['greg', 'marcia', 'peter', 'jan', 'bobby', 'cindy', 'oliver']\n",
    "brady['age'] = [14, 12, 11, 10, 8, 6, 8]"
   ]
  },
  {
   "cell_type": "code",
   "execution_count": 52,
   "metadata": {},
   "outputs": [
    {
     "name": "stdout",
     "output_type": "stream",
     "text": [
      "median is:  10.0\n",
      "mean is:  9.85714285714\n",
      "Mode is: 8\n",
      "variance:  6.40816326531\n",
      "std. deviation : 2.53143502095\n",
      "standard error : 0.421905836825\n"
     ]
    }
   ],
   "source": [
    "ages = [14, 12, 11, 10, 8, 6, 8]\n",
    "def practice(ages):\n",
    "    print(\"median is: \",np.median(ages)) # Median\n",
    "    print(\"mean is: \",np.mean(ages)) #mean\n",
    "    print(\"Mode is: 8\") #mode\n",
    "    print(\"variance: \",np.var(ages))\n",
    "    print(\"std. deviation :\",np.std(ages))\n",
    "    print(\"standard error :\",np.std(ages)/(len(ages)-1))\n",
    "    \n",
    "practice(ages)"
   ]
  },
  {
   "cell_type": "code",
   "execution_count": 43,
   "metadata": {
    "collapsed": true
   },
   "outputs": [],
   "source": [
    "# 2. I think using the median or mean are both ok here. They are very close\n",
    "# and describe the data better than the mode. \n",
    "# I think the variance is ok to use to describe the data here. "
   ]
  },
  {
   "cell_type": "code",
   "execution_count": 53,
   "metadata": {},
   "outputs": [
    {
     "name": "stdout",
     "output_type": "stream",
     "text": [
      "median is:  10.0\n",
      "mean is:  10.0\n",
      "Mode is: 8\n",
      "variance:  5.42857142857\n",
      "std. deviation : 2.32992949004\n",
      "standard error : 0.388321581674\n"
     ]
    }
   ],
   "source": [
    "ages = [14, 12, 11, 10, 8, 7, 8]\n",
    "\n",
    "practice(ages)"
   ]
  },
  {
   "cell_type": "code",
   "execution_count": 45,
   "metadata": {
    "collapsed": true
   },
   "outputs": [],
   "source": [
    "# 3. Everything besides the mean and mode changed. "
   ]
  },
  {
   "cell_type": "code",
   "execution_count": 54,
   "metadata": {},
   "outputs": [
    {
     "name": "stdout",
     "output_type": "stream",
     "text": [
      "median is:  10.0\n",
      "mean is:  9.0\n",
      "Mode is: There is no mode\n",
      "variance:  15.4285714286\n",
      "std. deviation : 3.92792202425\n",
      "standard error : 0.654653670708\n"
     ]
    }
   ],
   "source": [
    "ages = [14, 12, 11, 10, 8, 7, 1]\n",
    "\n",
    "def practice(ages):\n",
    "    print(\"median is: \",np.median(ages)) # Median\n",
    "    print(\"mean is: \",np.mean(ages)) #mean\n",
    "    print(\"Mode is: There is no mode\") #mode\n",
    "    print(\"variance: \",np.var(ages))\n",
    "    print(\"std. deviation :\",np.std(ages))\n",
    "    print(\"standard error :\",np.std(ages)/(len(ages)-1))\n",
    "    \n",
    "practice(ages)"
   ]
  },
  {
   "cell_type": "code",
   "execution_count": 55,
   "metadata": {
    "collapsed": true
   },
   "outputs": [],
   "source": [
    "# 4. I would focus on the median becuase the new value of 1 for jessice is\n",
    "# very extreme and pulls the mean down a relatively large amount. "
   ]
  },
  {
   "cell_type": "code",
   "execution_count": null,
   "metadata": {
    "collapsed": true
   },
   "outputs": [],
   "source": [
    "# I would take an average of the first three publications since they  are more\n",
    "# general magazines and represent the general public more than the sciphi \n",
    "# fanatics. ~20% "
   ]
  }
 ],
 "metadata": {
  "kernelspec": {
   "display_name": "Python 3",
   "language": "python",
   "name": "python3"
  },
  "language_info": {
   "codemirror_mode": {
    "name": "ipython",
    "version": 3
   },
   "file_extension": ".py",
   "mimetype": "text/x-python",
   "name": "python",
   "nbconvert_exporter": "python",
   "pygments_lexer": "ipython3",
   "version": "3.6.3"
  }
 },
 "nbformat": 4,
 "nbformat_minor": 2
}
