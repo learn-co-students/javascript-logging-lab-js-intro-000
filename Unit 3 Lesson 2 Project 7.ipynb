{
 "cells": [
  {
   "cell_type": "code",
   "execution_count": 5,
   "metadata": {},
   "outputs": [],
   "source": [
    "# In each of the scenarios, find possible shortcomings of the data sources to answer the given question.\n",
    "# What could be done to either adjust the analysis or reframe the question so that you can answer it accurately?\n"
   ]
  },
  {
   "cell_type": "code",
   "execution_count": null,
   "metadata": {
    "collapsed": true
   },
   "outputs": [],
   "source": [
    "# Data Source: Amsterdam availability data scraped from AirBnB on December 24th. Question: \n",
    "# What are the popular neighborhoods in Amsterdam.\n",
    "\n",
    "# The greatest shortcoming of this data source would be the exerptional circumstance of proximity to chirstmas. The data would\n",
    "# be skewed to possibily have less availibility, not giving a proper representation of airbnb availability for the city as a \n",
    "# whole. To fix this, I would scrape the data from other time periods not close to holidays to get a better representation. "
   ]
  },
  {
   "cell_type": "code",
   "execution_count": 4,
   "metadata": {},
   "outputs": [],
   "source": [
    "# Data Source: Mental health services use on September 12, 2001 in San Francisco, CA and New York City, NY. \n",
    "# Question: How do patterns of mental health service use vary between cities?\n",
    "\n",
    "# Exeptional circumstance- The day after 9/11, there would certainly be skewed data of peoeple using mental health services in\n",
    "# New York. 9/11 would probably affect more people in New York than San Francisco as the attack took place and directly affected \n",
    "# more people in New York. Should take data further away from the attack to compare. "
   ]
  },
  {
   "cell_type": "code",
   "execution_count": null,
   "metadata": {
    "collapsed": true
   },
   "outputs": [],
   "source": [
    "# Data Source: Armenian Pub Survey. \n",
    "# Question: What are the most common reasons Armenians visit local pubs?\n",
    "# Quality- The vast majority of people willing to take the survey are students. This would affect the reason the respondants would \n",
    "# visit local pubs. "
   ]
  }
 ],
 "metadata": {
  "kernelspec": {
   "display_name": "Python 3",
   "language": "python",
   "name": "python3"
  },
  "language_info": {
   "codemirror_mode": {
    "name": "ipython",
    "version": 3
   },
   "file_extension": ".py",
   "mimetype": "text/x-python",
   "name": "python",
   "nbconvert_exporter": "python",
   "pygments_lexer": "ipython3",
   "version": "3.6.3"
  }
 },
 "nbformat": 4,
 "nbformat_minor": 2
}
