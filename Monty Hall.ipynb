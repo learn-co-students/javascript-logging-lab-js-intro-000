{
 "cells": [
  {
   "cell_type": "code",
   "execution_count": null,
   "metadata": {
    "collapsed": true
   },
   "outputs": [],
   "source": [
    "# When you initially pick a door, you have a 1/3 chance of picking the winner a 2/3 chance of picking a dud. When the host opens\n",
    "# door number 3 and shows you a dud, it changes things. You still have a 1/3 chance of being right with your initial choice, \n",
    "# but now that the host shows you the door # 3 is empty, there is now a 2/3 chance that door #2 has the car becuase the new info\n",
    "# you got from the host. \n",
    "#\n",
    "#\n",
    "#\n",
    "#"
   ]
  }
 ],
 "metadata": {
  "kernelspec": {
   "display_name": "Python 3",
   "language": "python",
   "name": "python3"
  },
  "language_info": {
   "codemirror_mode": {
    "name": "ipython",
    "version": 3
   },
   "file_extension": ".py",
   "mimetype": "text/x-python",
   "name": "python",
   "nbconvert_exporter": "python",
   "pygments_lexer": "ipython3",
   "version": "3.6.3"
  }
 },
 "nbformat": 4,
 "nbformat_minor": 2
}
